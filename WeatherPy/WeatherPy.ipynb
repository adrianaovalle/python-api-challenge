{
 "cells": [
  {
   "cell_type": "markdown",
   "metadata": {},
   "source": [
    "# WeatherPy\n",
    "----\n",
    "\n",
    "#### Note\n",
    "* Instructions have been included for each segment. You do not have to follow them exactly, but they are included to help you think through the steps."
   ]
  },
  {
   "cell_type": "code",
   "execution_count": 2,
   "metadata": {
    "scrolled": true
   },
   "outputs": [],
   "source": [
    "# Dependencies and Setup\n",
    "import matplotlib.pyplot as plt\n",
    "import pandas as pd\n",
    "import numpy as np\n",
    "import requests\n",
    "import time\n",
    "from datetime import datetime\n",
    "from scipy.stats import linregress\n",
    "\n",
    "# Import API key\n",
    "from api_keys import weather_api_key\n",
    "\n",
    "# Incorporated citipy to determine city based on latitude and longitude\n",
    "from citipy import citipy\n",
    "\n",
    "# Output File (CSV)\n",
    "output_data_file = \"output_data/cities.csv\"\n",
    "\n",
    "# Range of latitudes and longitudes\n",
    "lat_range = (-90, 90)\n",
    "lng_range = (-180, 180)"
   ]
  },
  {
   "cell_type": "markdown",
   "metadata": {},
   "source": [
    "## Generate Cities List"
   ]
  },
  {
   "cell_type": "code",
   "execution_count": 3,
   "metadata": {},
   "outputs": [
    {
     "data": {
      "text/plain": [
       "592"
      ]
     },
     "execution_count": 3,
     "metadata": {},
     "output_type": "execute_result"
    }
   ],
   "source": [
    "# List for holding lat_lngs and cities\n",
    "lat_lngs = []\n",
    "cities = []\n",
    "\n",
    "# Create a set of random lat and lng combinations\n",
    "lats = np.random.uniform(lat_range[0], lat_range[1], size=1500)\n",
    "lngs = np.random.uniform(lng_range[0], lng_range[1], size=1500)\n",
    "lat_lngs = zip(lats, lngs)\n",
    "\n",
    "# Identify nearest city for each lat, lng combination\n",
    "for lat_lng in lat_lngs:\n",
    "    city = citipy.nearest_city(lat_lng[0], lat_lng[1]).city_name\n",
    "    \n",
    "    # If the city is unique, then add it to a our cities list\n",
    "    if city not in cities:\n",
    "        cities.append(city)\n",
    "\n",
    "# Print the city count to confirm sufficient count\n",
    "len(cities)"
   ]
  },
  {
   "cell_type": "markdown",
   "metadata": {},
   "source": [
    "### Perform API Calls\n",
    "* Perform a weather check on each city using a series of successive API calls.\n",
    "* Include a print log of each city as it'sbeing processed (with the city number and city name).\n"
   ]
  },
  {
   "cell_type": "code",
   "execution_count": 4,
   "metadata": {},
   "outputs": [
    {
     "name": "stdout",
     "output_type": "stream",
     "text": [
      "Processing Record 0 of Set 1 |  port alfred\n",
      "Processing Record 1 of Set 1 |  avarua\n",
      "Processing Record 2 of Set 1 |  busselton\n",
      "Processing Record 3 of Set 1 |  blagoyevo\n",
      "City tapaua not found. Skipping...\n",
      "Processing Record 4 of Set 1 |  eisenberg\n",
      "Processing Record 5 of Set 1 |  severodvinsk\n",
      "Processing Record 6 of Set 1 |  mataura\n",
      "Processing Record 7 of Set 1 |  skibbereen\n",
      "Processing Record 8 of Set 1 |  kodiak\n",
      "Processing Record 9 of Set 1 |  alexandria\n",
      "Processing Record 10 of Set 1 |  khatanga\n",
      "Processing Record 11 of Set 1 |  bluff\n",
      "City tsihombe not found. Skipping...\n",
      "Processing Record 12 of Set 1 |  east london\n",
      "Processing Record 13 of Set 1 |  henties bay\n",
      "Processing Record 14 of Set 1 |  rikitea\n",
      "Processing Record 15 of Set 1 |  jamestown\n",
      "Processing Record 16 of Set 1 |  hualmay\n",
      "Processing Record 17 of Set 1 |  hamilton\n",
      "Processing Record 18 of Set 1 |  mar del plata\n",
      "Processing Record 19 of Set 1 |  ushuaia\n",
      "Processing Record 20 of Set 1 |  tuktoyaktuk\n",
      "Processing Record 21 of Set 1 |  pingzhuang\n",
      "Processing Record 22 of Set 1 |  sakaiminato\n",
      "Processing Record 23 of Set 1 |  samana\n",
      "Processing Record 24 of Set 1 |  hermanus\n",
      "Processing Record 25 of Set 1 |  jumla\n",
      "Processing Record 26 of Set 1 |  port elizabeth\n",
      "Processing Record 27 of Set 1 |  norman wells\n",
      "Processing Record 28 of Set 1 |  atuona\n",
      "Processing Record 29 of Set 1 |  zhigansk\n",
      "Processing Record 30 of Set 1 |  dharchula\n",
      "Processing Record 31 of Set 1 |  cape town\n",
      "Processing Record 32 of Set 1 |  ancud\n",
      "Processing Record 33 of Set 1 |  barrow\n",
      "Processing Record 34 of Set 1 |  muros\n",
      "Processing Record 35 of Set 1 |  lompoc\n",
      "Processing Record 36 of Set 1 |  leova\n",
      "Processing Record 37 of Set 1 |  vaini\n",
      "Processing Record 38 of Set 1 |  codrington\n",
      "Processing Record 39 of Set 1 |  hobart\n",
      "Processing Record 40 of Set 1 |  fare\n",
      "Processing Record 41 of Set 1 |  formosa\n",
      "Processing Record 42 of Set 1 |  westport\n",
      "Processing Record 43 of Set 1 |  eslamshahr\n",
      "City taolanaro not found. Skipping...\n",
      "Processing Record 44 of Set 1 |  lebu\n",
      "Processing Record 45 of Set 1 |  fayaoue\n",
      "City barentsburg not found. Skipping...\n",
      "Processing Record 46 of Set 1 |  marawi\n",
      "Processing Record 47 of Set 1 |  floro\n",
      "Processing Record 48 of Set 1 |  venice\n",
      "Processing Record 49 of Set 1 |  tura\n",
      "City sentyabrskiy not found. Skipping...\n",
      "City umzimvubu not found. Skipping...\n",
      "Processing Record 0 of Set 2 |  prado\n",
      "Processing Record 1 of Set 2 |  kapaa\n",
      "Processing Record 2 of Set 2 |  yellowknife\n",
      "Processing Record 3 of Set 2 |  albany\n",
      "Processing Record 4 of Set 2 |  hazorasp\n",
      "Processing Record 5 of Set 2 |  kahului\n",
      "Processing Record 6 of Set 2 |  arraial do cabo\n",
      "Processing Record 7 of Set 2 |  cherskiy\n",
      "Processing Record 8 of Set 2 |  kavieng\n",
      "Processing Record 9 of Set 2 |  saint-philippe\n",
      "City duz not found. Skipping...\n",
      "Processing Record 10 of Set 2 |  nelson bay\n",
      "Processing Record 11 of Set 2 |  neuquen\n",
      "Processing Record 12 of Set 2 |  dire dawa\n",
      "Processing Record 13 of Set 2 |  zapolyarnyy\n",
      "Processing Record 14 of Set 2 |  saskylakh\n",
      "Processing Record 15 of Set 2 |  punta arenas\n",
      "Processing Record 16 of Set 2 |  xingyi\n",
      "Processing Record 17 of Set 2 |  nasirabad\n",
      "Processing Record 18 of Set 2 |  qaanaaq\n",
      "Processing Record 19 of Set 2 |  tucuman\n",
      "Processing Record 20 of Set 2 |  puerto leguizamo\n",
      "Processing Record 21 of Set 2 |  puerto ayora\n",
      "Processing Record 22 of Set 2 |  meulaboh\n",
      "Processing Record 23 of Set 2 |  tabas\n",
      "Processing Record 24 of Set 2 |  kaeo\n",
      "City illoqqortoormiut not found. Skipping...\n",
      "Processing Record 25 of Set 2 |  cockburn town\n",
      "Processing Record 26 of Set 2 |  batagay-alyta\n",
      "Processing Record 27 of Set 2 |  severo-kurilsk\n",
      "Processing Record 28 of Set 2 |  thompson\n",
      "Processing Record 29 of Set 2 |  jibuti\n",
      "Processing Record 30 of Set 2 |  port blair\n",
      "City jiroft not found. Skipping...\n",
      "Processing Record 31 of Set 2 |  comodoro rivadavia\n",
      "Processing Record 32 of Set 2 |  hilo\n",
      "Processing Record 33 of Set 2 |  nikolskoye\n",
      "Processing Record 34 of Set 2 |  puerto escondido\n",
      "Processing Record 35 of Set 2 |  itoman\n",
      "Processing Record 36 of Set 2 |  butaritari\n",
      "Processing Record 37 of Set 2 |  ribeira grande\n",
      "Processing Record 38 of Set 2 |  kununurra\n",
      "Processing Record 39 of Set 2 |  hithadhoo\n",
      "Processing Record 40 of Set 2 |  kawalu\n",
      "Processing Record 41 of Set 2 |  khor\n",
      "City yeletskiy not found. Skipping...\n",
      "Processing Record 42 of Set 2 |  sabang\n",
      "Processing Record 43 of Set 2 |  qalyub\n",
      "Processing Record 44 of Set 2 |  gohana\n",
      "Processing Record 45 of Set 2 |  port-gentil\n",
      "Processing Record 46 of Set 2 |  tasiilaq\n",
      "Processing Record 47 of Set 2 |  oranjemund\n",
      "Processing Record 48 of Set 2 |  narsaq\n",
      "Processing Record 49 of Set 2 |  korem\n",
      "Processing Record 0 of Set 3 |  port lincoln\n",
      "Processing Record 1 of Set 3 |  tuatapere\n",
      "Processing Record 2 of Set 3 |  hambantota\n",
      "Processing Record 3 of Set 3 |  fort nelson\n",
      "Processing Record 4 of Set 3 |  souillac\n",
      "Processing Record 5 of Set 3 |  mount isa\n",
      "Processing Record 6 of Set 3 |  cidreira\n",
      "City satitoa not found. Skipping...\n",
      "Processing Record 7 of Set 3 |  chapais\n",
      "City palabuhanratu not found. Skipping...\n",
      "City jiddah not found. Skipping...\n",
      "Processing Record 8 of Set 3 |  adrar\n",
      "Processing Record 9 of Set 3 |  clyde river\n",
      "Processing Record 10 of Set 3 |  monticello\n",
      "Processing Record 11 of Set 3 |  antakya\n",
      "Processing Record 12 of Set 3 |  upernavik\n",
      "Processing Record 13 of Set 3 |  bandarbeyla\n",
      "Processing Record 14 of Set 3 |  bengkulu\n",
      "Processing Record 15 of Set 3 |  itarema\n",
      "Processing Record 16 of Set 3 |  nancha\n",
      "Processing Record 17 of Set 3 |  surt\n",
      "Processing Record 18 of Set 3 |  leh\n",
      "Processing Record 19 of Set 3 |  bilibino\n",
      "Processing Record 20 of Set 3 |  marovoay\n",
      "Processing Record 21 of Set 3 |  mount gambier\n",
      "Processing Record 22 of Set 3 |  fuling\n",
      "Processing Record 23 of Set 3 |  ilam\n",
      "Processing Record 24 of Set 3 |  hofn\n",
      "Processing Record 25 of Set 3 |  rudnogorsk\n",
      "Processing Record 26 of Set 3 |  iquitos\n",
      "Processing Record 27 of Set 3 |  hokitika\n",
      "Processing Record 28 of Set 3 |  dikson\n",
      "Processing Record 29 of Set 3 |  luderitz\n",
      "Processing Record 30 of Set 3 |  ileza\n",
      "Processing Record 31 of Set 3 |  belaya gora\n",
      "Processing Record 32 of Set 3 |  zhengjiatun\n",
      "Processing Record 33 of Set 3 |  saint anthony\n",
      "Processing Record 34 of Set 3 |  rawah\n",
      "City amderma not found. Skipping...\n",
      "Processing Record 35 of Set 3 |  bredasdorp\n",
      "Processing Record 36 of Set 3 |  nuuk\n",
      "Processing Record 37 of Set 3 |  missoula\n",
      "Processing Record 38 of Set 3 |  ketchikan\n",
      "Processing Record 39 of Set 3 |  torbay\n",
      "Processing Record 40 of Set 3 |  mahebourg\n",
      "Processing Record 41 of Set 3 |  longyearbyen\n",
      "Processing Record 42 of Set 3 |  ilinskiy\n",
      "Processing Record 43 of Set 3 |  olinda\n",
      "Processing Record 44 of Set 3 |  golaghat\n",
      "Processing Record 45 of Set 3 |  cabo san lucas\n",
      "Processing Record 46 of Set 3 |  klaksvik\n",
      "City wolmaranstad not found. Skipping...\n",
      "Processing Record 47 of Set 3 |  olafsvik\n",
      "City sorvag not found. Skipping...\n",
      "City attawapiskat not found. Skipping...\n",
      "Processing Record 48 of Set 3 |  pevek\n",
      "Processing Record 49 of Set 3 |  nowogard\n",
      "Processing Record 0 of Set 4 |  shahr-e babak\n",
      "Processing Record 1 of Set 4 |  vestmannaeyjar\n",
      "City marcona not found. Skipping...\n",
      "Processing Record 2 of Set 4 |  tahe\n",
      "Processing Record 3 of Set 4 |  cap malheureux\n",
      "Processing Record 4 of Set 4 |  straumen\n",
      "Processing Record 5 of Set 4 |  vilyuysk\n",
      "Processing Record 6 of Set 4 |  tiksi\n",
      "Processing Record 7 of Set 4 |  provideniya\n",
      "Processing Record 8 of Set 4 |  korla\n",
      "Processing Record 9 of Set 4 |  san jose\n",
      "Processing Record 10 of Set 4 |  new norfolk\n",
      "Processing Record 11 of Set 4 |  bosaso\n",
      "Processing Record 12 of Set 4 |  touros\n",
      "Processing Record 13 of Set 4 |  ponta do sol\n",
      "Processing Record 14 of Set 4 |  ostrovnoy\n",
      "Processing Record 15 of Set 4 |  bethel\n",
      "Processing Record 16 of Set 4 |  nantucket\n",
      "City saleaula not found. Skipping...\n",
      "Processing Record 17 of Set 4 |  yerbogachen\n",
      "Processing Record 18 of Set 4 |  kaitangata\n",
      "Processing Record 19 of Set 4 |  tezu\n",
      "Processing Record 20 of Set 4 |  tilichiki\n",
      "Processing Record 21 of Set 4 |  netarhat\n",
      "Processing Record 22 of Set 4 |  itacoatiara\n",
      "Processing Record 23 of Set 4 |  chuy\n",
      "Processing Record 24 of Set 4 |  kamenka\n",
      "Processing Record 25 of Set 4 |  nhulunbuy\n",
      "Processing Record 26 of Set 4 |  moree\n",
      "City belushya guba not found. Skipping...\n",
      "Processing Record 27 of Set 4 |  raga\n"
     ]
    },
    {
     "name": "stdout",
     "output_type": "stream",
     "text": [
      "Processing Record 28 of Set 4 |  sola\n",
      "Processing Record 29 of Set 4 |  ballinasloe\n",
      "Processing Record 30 of Set 4 |  nipawin\n",
      "Processing Record 31 of Set 4 |  pecos\n",
      "Processing Record 32 of Set 4 |  acarau\n",
      "Processing Record 33 of Set 4 |  chokurdakh\n",
      "Processing Record 34 of Set 4 |  dingle\n",
      "Processing Record 35 of Set 4 |  katsuura\n",
      "Processing Record 36 of Set 4 |  saint andrews\n",
      "Processing Record 37 of Set 4 |  rocha\n",
      "Processing Record 38 of Set 4 |  alofi\n",
      "Processing Record 39 of Set 4 |  aykhal\n",
      "Processing Record 40 of Set 4 |  zaysan\n",
      "Processing Record 41 of Set 4 |  padang\n",
      "Processing Record 42 of Set 4 |  loiza\n",
      "Processing Record 43 of Set 4 |  ilulissat\n",
      "Processing Record 44 of Set 4 |  tsimlyansk\n",
      "Processing Record 45 of Set 4 |  guerrero negro\n",
      "Processing Record 46 of Set 4 |  samarai\n",
      "Processing Record 47 of Set 4 |  bambous virieux\n",
      "Processing Record 48 of Set 4 |  constitucion\n",
      "Processing Record 49 of Set 4 |  carnarvon\n",
      "Processing Record 0 of Set 5 |  saldanha\n",
      "Processing Record 1 of Set 5 |  primorka\n",
      "City solovetskiy not found. Skipping...\n",
      "Processing Record 2 of Set 5 |  aksarka\n",
      "Processing Record 3 of Set 5 |  komsomolskiy\n",
      "Processing Record 4 of Set 5 |  talas\n",
      "City yithion not found. Skipping...\n",
      "Processing Record 5 of Set 5 |  airai\n",
      "Processing Record 6 of Set 5 |  brae\n",
      "Processing Record 7 of Set 5 |  saint-augustin\n",
      "City la gaulette not found. Skipping...\n",
      "Processing Record 8 of Set 5 |  montecristo\n",
      "Processing Record 9 of Set 5 |  faanui\n",
      "Processing Record 10 of Set 5 |  vila\n",
      "Processing Record 11 of Set 5 |  havoysund\n",
      "Processing Record 12 of Set 5 |  victoria\n",
      "Processing Record 13 of Set 5 |  ouadda\n",
      "Processing Record 14 of Set 5 |  buraydah\n",
      "Processing Record 15 of Set 5 |  vardo\n",
      "Processing Record 16 of Set 5 |  yulara\n",
      "Processing Record 17 of Set 5 |  tevriz\n",
      "Processing Record 18 of Set 5 |  urengoy\n",
      "City tabiauea not found. Skipping...\n",
      "Processing Record 19 of Set 5 |  namibe\n",
      "Processing Record 20 of Set 5 |  beringovskiy\n",
      "Processing Record 21 of Set 5 |  honningsvag\n",
      "Processing Record 22 of Set 5 |  buturlinovka\n",
      "Processing Record 23 of Set 5 |  hauterive\n",
      "Processing Record 24 of Set 5 |  baiyin\n",
      "Processing Record 25 of Set 5 |  darab\n",
      "City naftah not found. Skipping...\n",
      "Processing Record 26 of Set 5 |  balclutha\n",
      "Processing Record 27 of Set 5 |  georgetown\n",
      "Processing Record 28 of Set 5 |  uaua\n",
      "Processing Record 29 of Set 5 |  saint-pierre\n",
      "Processing Record 30 of Set 5 |  pekan\n",
      "Processing Record 31 of Set 5 |  ahuimanu\n",
      "Processing Record 32 of Set 5 |  sibolga\n",
      "City mys shmidta not found. Skipping...\n",
      "Processing Record 33 of Set 5 |  calvinia\n",
      "Processing Record 34 of Set 5 |  hasaki\n",
      "City karaul not found. Skipping...\n",
      "Processing Record 35 of Set 5 |  ballina\n",
      "Processing Record 36 of Set 5 |  esperance\n",
      "Processing Record 37 of Set 5 |  san patricio\n",
      "Processing Record 38 of Set 5 |  dudinka\n",
      "Processing Record 39 of Set 5 |  myanaung\n",
      "Processing Record 40 of Set 5 |  colares\n",
      "Processing Record 41 of Set 5 |  lazaro cardenas\n",
      "Processing Record 42 of Set 5 |  poronaysk\n",
      "Processing Record 43 of Set 5 |  salta\n",
      "Processing Record 44 of Set 5 |  vila velha\n",
      "Processing Record 45 of Set 5 |  cabedelo\n",
      "Processing Record 46 of Set 5 |  ukiah\n",
      "Processing Record 47 of Set 5 |  palasa\n",
      "Processing Record 48 of Set 5 |  san cristobal\n",
      "Processing Record 49 of Set 5 |  nyurba\n",
      "Processing Record 0 of Set 6 |  koumac\n",
      "Processing Record 1 of Set 6 |  salinopolis\n",
      "Processing Record 2 of Set 6 |  nemuro\n",
      "Processing Record 3 of Set 6 |  kingston upon hull\n",
      "Processing Record 4 of Set 6 |  booue\n",
      "Processing Record 5 of Set 6 |  lorengau\n",
      "Processing Record 6 of Set 6 |  shakawe\n",
      "Processing Record 7 of Set 6 |  chlorakas\n",
      "Processing Record 8 of Set 6 |  nanortalik\n",
      "Processing Record 9 of Set 6 |  praia\n",
      "Processing Record 10 of Set 6 |  talnakh\n",
      "City kegayli not found. Skipping...\n",
      "City toliary not found. Skipping...\n",
      "Processing Record 11 of Set 6 |  tabriz\n",
      "Processing Record 12 of Set 6 |  anzio\n",
      "Processing Record 13 of Set 6 |  alice springs\n",
      "Processing Record 14 of Set 6 |  broome\n",
      "Processing Record 15 of Set 6 |  hirara\n",
      "Processing Record 16 of Set 6 |  vorobyevka\n",
      "Processing Record 17 of Set 6 |  bow island\n",
      "Processing Record 18 of Set 6 |  sao jose da coroa grande\n",
      "Processing Record 19 of Set 6 |  suoyarvi\n",
      "Processing Record 20 of Set 6 |  dioknisi\n",
      "Processing Record 21 of Set 6 |  derzhavinsk\n",
      "Processing Record 22 of Set 6 |  marzuq\n",
      "Processing Record 23 of Set 6 |  taoudenni\n",
      "Processing Record 24 of Set 6 |  neiafu\n",
      "Processing Record 25 of Set 6 |  kashi\n",
      "Processing Record 26 of Set 6 |  calafell\n",
      "Processing Record 27 of Set 6 |  shawnee\n",
      "Processing Record 28 of Set 6 |  castro\n",
      "Processing Record 29 of Set 6 |  tamandare\n",
      "Processing Record 30 of Set 6 |  kruisfontein\n",
      "Processing Record 31 of Set 6 |  borovskoy\n",
      "Processing Record 32 of Set 6 |  kommunisticheskiy\n",
      "Processing Record 33 of Set 6 |  bani walid\n",
      "City kacergine not found. Skipping...\n",
      "Processing Record 34 of Set 6 |  vung tau\n",
      "Processing Record 35 of Set 6 |  jiancheng\n",
      "Processing Record 36 of Set 6 |  mae hong son\n",
      "Processing Record 37 of Set 6 |  bandeirantes\n",
      "City xirokambion not found. Skipping...\n",
      "Processing Record 38 of Set 6 |  chicama\n",
      "Processing Record 39 of Set 6 |  ust-ishim\n",
      "Processing Record 40 of Set 6 |  olenino\n",
      "Processing Record 41 of Set 6 |  mae sai\n",
      "Processing Record 42 of Set 6 |  kamaishi\n",
      "Processing Record 43 of Set 6 |  oktyabrskoye\n",
      "City burica not found. Skipping...\n",
      "Processing Record 44 of Set 6 |  leningradskiy\n",
      "Processing Record 45 of Set 6 |  manali\n",
      "Processing Record 46 of Set 6 |  los llanos de aridane\n",
      "Processing Record 47 of Set 6 |  dingzhou\n",
      "City grand river south east not found. Skipping...\n",
      "Processing Record 48 of Set 6 |  havre-saint-pierre\n",
      "City vaitupu not found. Skipping...\n",
      "Processing Record 49 of Set 6 |  gamba\n",
      "Processing Record 0 of Set 7 |  tulagi\n",
      "Processing Record 1 of Set 7 |  veraval\n",
      "Processing Record 2 of Set 7 |  dongdu\n",
      "Processing Record 3 of Set 7 |  annau\n",
      "Processing Record 4 of Set 7 |  shenzhen\n",
      "Processing Record 5 of Set 7 |  conceicao do mato dentro\n",
      "Processing Record 6 of Set 7 |  sao joao da barra\n",
      "Processing Record 7 of Set 7 |  batemans bay\n",
      "Processing Record 8 of Set 7 |  saint-michel-des-saints\n",
      "Processing Record 9 of Set 7 |  pombas\n",
      "Processing Record 10 of Set 7 |  reyes\n",
      "Processing Record 11 of Set 7 |  templemore\n",
      "Processing Record 12 of Set 7 |  san juan\n",
      "Processing Record 13 of Set 7 |  huarmey\n",
      "Processing Record 14 of Set 7 |  deputatskiy\n",
      "Processing Record 15 of Set 7 |  torfyanoy\n",
      "Processing Record 16 of Set 7 |  hervey bay\n",
      "Processing Record 17 of Set 7 |  lasa\n",
      "Processing Record 18 of Set 7 |  sinegorye\n",
      "Processing Record 19 of Set 7 |  gulu\n",
      "Processing Record 20 of Set 7 |  pierre\n",
      "Processing Record 21 of Set 7 |  shache\n",
      "Processing Record 22 of Set 7 |  kyabe\n",
      "Processing Record 23 of Set 7 |  portland\n",
      "City cockburn harbour not found. Skipping...\n",
      "City samusu not found. Skipping...\n",
      "Processing Record 24 of Set 7 |  sur\n",
      "Processing Record 25 of Set 7 |  havelock\n",
      "Processing Record 26 of Set 7 |  lavumisa\n",
      "Processing Record 27 of Set 7 |  dauphin\n",
      "Processing Record 28 of Set 7 |  coquimbo\n",
      "Processing Record 29 of Set 7 |  saint-francois\n",
      "Processing Record 30 of Set 7 |  ust-tsilma\n",
      "Processing Record 31 of Set 7 |  sao filipe\n",
      "Processing Record 32 of Set 7 |  mehamn\n",
      "Processing Record 33 of Set 7 |  santo andre\n",
      "Processing Record 34 of Set 7 |  srednekolymsk\n",
      "Processing Record 35 of Set 7 |  dolores\n",
      "Processing Record 36 of Set 7 |  beyneu\n",
      "Processing Record 37 of Set 7 |  susanville\n",
      "Processing Record 38 of Set 7 |  baykit\n",
      "Processing Record 39 of Set 7 |  manggar\n",
      "Processing Record 40 of Set 7 |  tambun\n",
      "Processing Record 41 of Set 7 |  ulaangom\n",
      "Processing Record 42 of Set 7 |  waingapu\n",
      "Processing Record 43 of Set 7 |  pustoshka\n",
      "Processing Record 44 of Set 7 |  solna\n",
      "Processing Record 45 of Set 7 |  shimoda\n",
      "Processing Record 46 of Set 7 |  goderich\n",
      "Processing Record 47 of Set 7 |  yantal\n",
      "Processing Record 48 of Set 7 |  suphan buri\n",
      "Processing Record 49 of Set 7 |  mtwara\n",
      "Processing Record 0 of Set 8 |  killybegs\n",
      "Processing Record 1 of Set 8 |  yashkul\n",
      "Processing Record 2 of Set 8 |  uyemskiy\n",
      "Processing Record 3 of Set 8 |  kieta\n",
      "Processing Record 4 of Set 8 |  elat\n",
      "Processing Record 5 of Set 8 |  seinajoki\n",
      "Processing Record 6 of Set 8 |  pokhara\n",
      "Processing Record 7 of Set 8 |  saint george\n"
     ]
    },
    {
     "name": "stdout",
     "output_type": "stream",
     "text": [
      "Processing Record 8 of Set 8 |  pennagaram\n",
      "Processing Record 9 of Set 8 |  moose factory\n",
      "Processing Record 10 of Set 8 |  marienburg\n",
      "Processing Record 11 of Set 8 |  humaita\n",
      "Processing Record 12 of Set 8 |  vrangel\n",
      "Processing Record 13 of Set 8 |  sivas\n",
      "Processing Record 14 of Set 8 |  pisco\n",
      "Processing Record 15 of Set 8 |  gushikawa\n",
      "Processing Record 16 of Set 8 |  plouzane\n",
      "Processing Record 17 of Set 8 |  la raya de santa maria\n",
      "Processing Record 18 of Set 8 |  roma\n",
      "Processing Record 19 of Set 8 |  urucara\n",
      "Processing Record 20 of Set 8 |  el vigia\n",
      "Processing Record 21 of Set 8 |  baisha\n",
      "Processing Record 22 of Set 8 |  pafos\n",
      "Processing Record 23 of Set 8 |  bom jesus\n",
      "Processing Record 24 of Set 8 |  udachnyy\n",
      "Processing Record 25 of Set 8 |  areka\n",
      "Processing Record 26 of Set 8 |  ouesso\n",
      "Processing Record 27 of Set 8 |  vostok\n",
      "Processing Record 28 of Set 8 |  zaragoza\n",
      "Processing Record 29 of Set 8 |  yar-sale\n",
      "Processing Record 30 of Set 8 |  altamont\n",
      "Processing Record 31 of Set 8 |  katobu\n",
      "Processing Record 32 of Set 8 |  benguela\n",
      "Processing Record 33 of Set 8 |  koulamoutou\n",
      "Processing Record 34 of Set 8 |  kaduqli\n",
      "Processing Record 35 of Set 8 |  bonavista\n",
      "Processing Record 36 of Set 8 |  ampanihy\n",
      "Processing Record 37 of Set 8 |  auki\n",
      "Processing Record 38 of Set 8 |  riachao\n",
      "Processing Record 39 of Set 8 |  peniche\n",
      "Processing Record 40 of Set 8 |  agadez\n",
      "Processing Record 41 of Set 8 |  aguimes\n",
      "Processing Record 42 of Set 8 |  santiago\n",
      "Processing Record 43 of Set 8 |  newport\n",
      "Processing Record 44 of Set 8 |  coihaique\n",
      "Processing Record 45 of Set 8 |  kutum\n",
      "Processing Record 46 of Set 8 |  paamiut\n",
      "Processing Record 47 of Set 8 |  digha\n",
      "Processing Record 48 of Set 8 |  kloulklubed\n",
      "Processing Record 49 of Set 8 |  maniago\n",
      "Processing Record 0 of Set 9 |  san ramon\n",
      "Processing Record 1 of Set 9 |  entre rios\n",
      "City ayer itam not found. Skipping...\n",
      "Processing Record 2 of Set 9 |  salalah\n",
      "Processing Record 3 of Set 9 |  beruwala\n",
      "City phan rang not found. Skipping...\n",
      "Processing Record 4 of Set 9 |  shihezi\n",
      "City tuysarkan not found. Skipping...\n",
      "Processing Record 5 of Set 9 |  harper\n",
      "City sirfa not found. Skipping...\n",
      "Processing Record 6 of Set 9 |  el progreso\n",
      "Processing Record 7 of Set 9 |  pijijiapan\n",
      "Processing Record 8 of Set 9 |  bardiyah\n",
      "Processing Record 9 of Set 9 |  vanimo\n",
      "Processing Record 10 of Set 9 |  pangnirtung\n",
      "Processing Record 11 of Set 9 |  montepuez\n",
      "Processing Record 12 of Set 9 |  huilong\n",
      "City tumannyy not found. Skipping...\n",
      "Processing Record 13 of Set 9 |  iskateley\n",
      "Processing Record 14 of Set 9 |  ko samui\n",
      "Processing Record 15 of Set 9 |  morelia\n",
      "Processing Record 16 of Set 9 |  vila franca do campo\n",
      "Processing Record 17 of Set 9 |  tsiroanomandidy\n",
      "Processing Record 18 of Set 9 |  fortuna\n",
      "Processing Record 19 of Set 9 |  safford\n",
      "City mocambique not found. Skipping...\n",
      "Processing Record 20 of Set 9 |  olot\n",
      "Processing Record 21 of Set 9 |  nola\n",
      "Processing Record 22 of Set 9 |  aksu\n",
      "Processing Record 23 of Set 9 |  pinawa\n",
      "Processing Record 24 of Set 9 |  axim\n",
      "Processing Record 25 of Set 9 |  san carlos de bariloche\n",
      "Processing Record 26 of Set 9 |  bose\n",
      "Processing Record 27 of Set 9 |  camacha\n",
      "Processing Record 28 of Set 9 |  pilot butte\n",
      "Processing Record 29 of Set 9 |  jalu\n",
      "Processing Record 30 of Set 9 |  san blas\n",
      "Processing Record 31 of Set 9 |  eureka\n",
      "Processing Record 32 of Set 9 |  makhalino\n",
      "Processing Record 33 of Set 9 |  humboldt\n",
      "Processing Record 34 of Set 9 |  tautira\n",
      "Processing Record 35 of Set 9 |  shellbrook\n",
      "Processing Record 36 of Set 9 |  kapra\n",
      "Processing Record 37 of Set 9 |  mogadishu\n",
      "Processing Record 38 of Set 9 |  flinders\n",
      "City samalaeulu not found. Skipping...\n",
      "Processing Record 39 of Set 9 |  alugan\n",
      "Processing Record 40 of Set 9 |  robertsport\n",
      "Processing Record 41 of Set 9 |  turukhansk\n",
      "Processing Record 42 of Set 9 |  grass valley\n",
      "Processing Record 43 of Set 9 |  ambositra\n",
      "Processing Record 44 of Set 9 |  pangody\n",
      "Processing Record 45 of Set 9 |  salsomaggiore terme\n",
      "Processing Record 46 of Set 9 |  san jeronimo\n",
      "Processing Record 47 of Set 9 |  cuamba\n",
      "Processing Record 48 of Set 9 |  iisalmi\n",
      "Processing Record 49 of Set 9 |  jiangkou\n",
      "Processing Record 0 of Set 10 |  geraldton\n",
      "Processing Record 1 of Set 10 |  japura\n",
      "Processing Record 2 of Set 10 |  puerto maldonado\n",
      "Processing Record 3 of Set 10 |  miri\n",
      "Processing Record 4 of Set 10 |  ushtobe\n",
      "Processing Record 5 of Set 10 |  liberia\n",
      "Processing Record 6 of Set 10 |  waipawa\n",
      "Processing Record 7 of Set 10 |  bilgi\n",
      "Processing Record 8 of Set 10 |  russell\n",
      "Processing Record 9 of Set 10 |  richards bay\n",
      "Processing Record 10 of Set 10 |  nome\n",
      "Processing Record 11 of Set 10 |  solnechnyy\n",
      "Processing Record 12 of Set 10 |  buzmeyin\n",
      "Processing Record 13 of Set 10 |  cacoal\n",
      "Processing Record 14 of Set 10 |  marietta\n",
      "Processing Record 15 of Set 10 |  makakilo city\n",
      "Processing Record 16 of Set 10 |  san quintin\n",
      "Processing Record 17 of Set 10 |  takoradi\n",
      "Processing Record 18 of Set 10 |  saint-joseph\n",
      "Processing Record 19 of Set 10 |  rawson\n",
      "Processing Record 20 of Set 10 |  ayagoz\n",
      "Processing Record 21 of Set 10 |  verkhnevilyuysk\n",
      "Processing Record 22 of Set 10 |  madimba\n",
      "Processing Record 23 of Set 10 |  otacilio costa\n",
      "Processing Record 24 of Set 10 |  sergeyevka\n",
      "Processing Record 25 of Set 10 |  plettenberg bay\n",
      "Processing Record 26 of Set 10 |  roebourne\n",
      "Processing Record 27 of Set 10 |  terrace\n",
      "Processing Record 28 of Set 10 |  lata\n",
      "Processing Record 29 of Set 10 |  port macquarie\n",
      "Processing Record 30 of Set 10 |  sabya\n",
      "Processing Record 31 of Set 10 |  kulhudhuffushi\n",
      "Processing Record 32 of Set 10 |  biltine\n",
      "Processing Record 33 of Set 10 |  miyang\n",
      "Processing Record 34 of Set 10 |  cervo\n",
      "Processing Record 35 of Set 10 |  wanning\n",
      "Processing Record 36 of Set 10 |  solhan\n",
      "Processing Record 37 of Set 10 |  chiang rai\n",
      "Processing Record 38 of Set 10 |  madang\n",
      "Processing Record 39 of Set 10 |  geghamasar\n",
      "Processing Record 40 of Set 10 |  naze\n",
      "Processing Record 41 of Set 10 |  trelew\n",
      "Processing Record 42 of Set 10 |  svetlogorsk\n",
      "Processing Record 43 of Set 10 |  magistralnyy\n",
      "Processing Record 44 of Set 10 |  oliveira\n",
      "Processing Record 45 of Set 10 |  maureni\n",
      "Processing Record 46 of Set 10 |  ayan\n",
      "Processing Record 47 of Set 10 |  kaili\n",
      "Processing Record 48 of Set 10 |  hobyo\n",
      "Processing Record 49 of Set 10 |  urumqi\n",
      "City jinchengjiang not found. Skipping...\n",
      "Processing Record 0 of Set 11 |  royan\n",
      "City mullaitivu not found. Skipping...\n",
      "Processing Record 1 of Set 11 |  anadyr\n",
      "Processing Record 2 of Set 11 |  roald\n",
      "Processing Record 3 of Set 11 |  dakoro\n",
      "Processing Record 4 of Set 11 |  pundaguitan\n",
      "Processing Record 5 of Set 11 |  wum\n",
      "Processing Record 6 of Set 11 |  okato\n",
      "Processing Record 7 of Set 11 |  kupang\n",
      "Processing Record 8 of Set 11 |  evensk\n",
      "Processing Record 9 of Set 11 |  sitka\n",
      "Processing Record 10 of Set 11 |  bathsheba\n",
      "Processing Record 11 of Set 11 |  kanevskaya\n",
      "Processing Record 12 of Set 11 |  byron bay\n",
      "Processing Record 13 of Set 11 |  petropavlovsk-kamchatskiy\n",
      "Processing Record 14 of Set 11 |  pryyutivka\n",
      "Processing Record 15 of Set 11 |  margate\n",
      "Processing Record 16 of Set 11 |  homer\n",
      "Processing Record 17 of Set 11 |  ciudad bolivar\n",
      "Processing Record 18 of Set 11 |  warrington\n",
      "Processing Record 19 of Set 11 |  hami\n",
      "Processing Record 20 of Set 11 |  sauda\n",
      "Processing Record 21 of Set 11 |  kalmunai\n",
      "Processing Record 22 of Set 11 |  atar\n",
      "Processing Record 23 of Set 11 |  dhidhdhoo\n",
      "Processing Record 24 of Set 11 |  horconcitos\n",
      "Processing Record 25 of Set 11 |  senno\n",
      "Processing Record 26 of Set 11 |  tandil\n",
      "City nizhneyansk not found. Skipping...\n",
      "City artyk not found. Skipping...\n",
      "City dzhusaly not found. Skipping...\n",
      "Processing Record 27 of Set 11 |  konotop\n",
      "Processing Record 28 of Set 11 |  caraballeda\n",
      "Processing Record 29 of Set 11 |  namatanai\n",
      "Processing Record 30 of Set 11 |  severo-yeniseyskiy\n",
      "Processing Record 31 of Set 11 |  tokur\n",
      "Processing Record 32 of Set 11 |  tacoronte\n",
      "City subaytilah not found. Skipping...\n",
      "Processing Record 33 of Set 11 |  snezhnogorsk\n",
      "City louisbourg not found. Skipping...\n",
      "Processing Record 34 of Set 11 |  nouadhibou\n",
      "Processing Record 35 of Set 11 |  tiarei\n",
      "Processing Record 36 of Set 11 |  xixiang\n",
      "Processing Record 37 of Set 11 |  khandyga\n",
      "Processing Record 38 of Set 11 |  togitsu\n"
     ]
    },
    {
     "name": "stdout",
     "output_type": "stream",
     "text": [
      "Processing Record 39 of Set 11 |  matara\n",
      "Processing Record 40 of Set 11 |  la asuncion\n",
      "Processing Record 41 of Set 11 |  kabompo\n",
      "---------------------------------------------------------\n",
      "Data Retrieval Complete\n",
      "---------------------------------------------------------\n"
     ]
    }
   ],
   "source": [
    "#Perform a weather check on each city using a series of successive API calls.\n",
    "url = \"http://api.openweathermap.org/data/2.5/weather?\"\n",
    "units = \"imperial\"\n",
    "# Build partial query URL\n",
    "query_url = f\"{url}appid={weather_api_key}&units={units}&q=\"\n",
    "\n",
    "# set up lists to hold reponse info\n",
    "lat = []\n",
    "lng=[]\n",
    "max_temp = []\n",
    "humidity=[]\n",
    "cloudiness=[]\n",
    "wind_speed=[]\n",
    "country=[]\n",
    "date=[]\n",
    "record=0\n",
    "Set=1\n",
    "\n",
    "# Loop through the list of cities and perform a request for data on each\n",
    "for city in cities:\n",
    "    try:\n",
    "        response = requests.get(query_url + city).json()\n",
    "        lat.append(response['coord']['lat'])\n",
    "        lng.append(response['coord']['lon'])\n",
    "        max_temp.append(response['main']['temp'])\n",
    "        humidity.append(response['main']['humidity'])\n",
    "        cloudiness.append(response['clouds']['all'])\n",
    "        wind_speed.append(response['wind']['speed'])\n",
    "        country.append(response['sys']['country'])\n",
    "        date.append(response['dt'])\n",
    "        print(f\"Processing Record {record} of Set {Set} |  {city}\")\n",
    "        record=record+1\n",
    "        if record ==50:\n",
    "            record=0\n",
    "            Set=Set+1\n",
    "    except:\n",
    "        print(f\"City {city} not found. Skipping...\")\n",
    "        lat.append(np.nan)\n",
    "        lng.append(np.nan)\n",
    "        max_temp.append(np.nan)\n",
    "        humidity.append(np.nan)\n",
    "        cloudiness.append(np.nan)\n",
    "        wind_speed.append(np.nan)\n",
    "        country.append(np.nan)\n",
    "        date.append(np.nan)\n",
    "        continue\n",
    "print(\"---------------------------------------------------------\")\n",
    "print(\"Data Retrieval Complete\")\n",
    "print(\"---------------------------------------------------------\")\n",
    "\n",
    "\n",
    "#Include a print log of each city as it'sbeing processed (with the city number and city name).\n",
    "        "
   ]
  },
  {
   "cell_type": "markdown",
   "metadata": {},
   "source": [
    "### Convert Raw Data to DataFrame\n",
    "* Export the city data into a .csv.\n",
    "* Display the DataFrame"
   ]
  },
  {
   "cell_type": "code",
   "execution_count": 5,
   "metadata": {},
   "outputs": [
    {
     "data": {
      "text/html": [
       "<div>\n",
       "<style scoped>\n",
       "    .dataframe tbody tr th:only-of-type {\n",
       "        vertical-align: middle;\n",
       "    }\n",
       "\n",
       "    .dataframe tbody tr th {\n",
       "        vertical-align: top;\n",
       "    }\n",
       "\n",
       "    .dataframe thead th {\n",
       "        text-align: right;\n",
       "    }\n",
       "</style>\n",
       "<table border=\"1\" class=\"dataframe\">\n",
       "  <thead>\n",
       "    <tr style=\"text-align: right;\">\n",
       "      <th></th>\n",
       "      <th>City</th>\n",
       "      <th>Lat</th>\n",
       "      <th>Lng</th>\n",
       "      <th>Max Temp (F)</th>\n",
       "      <th>Humidity (%)</th>\n",
       "      <th>Cloudiness (%)</th>\n",
       "      <th>Wind Speed</th>\n",
       "      <th>Country</th>\n",
       "      <th>Date</th>\n",
       "    </tr>\n",
       "  </thead>\n",
       "  <tbody>\n",
       "    <tr>\n",
       "      <th>0</th>\n",
       "      <td>port alfred</td>\n",
       "      <td>-33.59</td>\n",
       "      <td>26.89</td>\n",
       "      <td>57.99</td>\n",
       "      <td>90.0</td>\n",
       "      <td>70.0</td>\n",
       "      <td>6.89</td>\n",
       "      <td>ZA</td>\n",
       "      <td>1.592235e+09</td>\n",
       "    </tr>\n",
       "    <tr>\n",
       "      <th>1</th>\n",
       "      <td>avarua</td>\n",
       "      <td>-21.21</td>\n",
       "      <td>-159.78</td>\n",
       "      <td>69.80</td>\n",
       "      <td>73.0</td>\n",
       "      <td>75.0</td>\n",
       "      <td>13.87</td>\n",
       "      <td>CK</td>\n",
       "      <td>1.592235e+09</td>\n",
       "    </tr>\n",
       "    <tr>\n",
       "      <th>2</th>\n",
       "      <td>busselton</td>\n",
       "      <td>-33.65</td>\n",
       "      <td>115.33</td>\n",
       "      <td>56.19</td>\n",
       "      <td>73.0</td>\n",
       "      <td>99.0</td>\n",
       "      <td>5.37</td>\n",
       "      <td>AU</td>\n",
       "      <td>1.592235e+09</td>\n",
       "    </tr>\n",
       "    <tr>\n",
       "      <th>3</th>\n",
       "      <td>blagoyevo</td>\n",
       "      <td>63.37</td>\n",
       "      <td>47.92</td>\n",
       "      <td>74.89</td>\n",
       "      <td>46.0</td>\n",
       "      <td>91.0</td>\n",
       "      <td>7.00</td>\n",
       "      <td>RU</td>\n",
       "      <td>1.592235e+09</td>\n",
       "    </tr>\n",
       "    <tr>\n",
       "      <th>5</th>\n",
       "      <td>eisenberg</td>\n",
       "      <td>50.97</td>\n",
       "      <td>11.90</td>\n",
       "      <td>71.65</td>\n",
       "      <td>79.0</td>\n",
       "      <td>100.0</td>\n",
       "      <td>1.99</td>\n",
       "      <td>DE</td>\n",
       "      <td>1.592235e+09</td>\n",
       "    </tr>\n",
       "  </tbody>\n",
       "</table>\n",
       "</div>"
      ],
      "text/plain": [
       "          City    Lat     Lng  Max Temp (F)  Humidity (%)  Cloudiness (%)  \\\n",
       "0  port alfred -33.59   26.89         57.99          90.0            70.0   \n",
       "1       avarua -21.21 -159.78         69.80          73.0            75.0   \n",
       "2    busselton -33.65  115.33         56.19          73.0            99.0   \n",
       "3    blagoyevo  63.37   47.92         74.89          46.0            91.0   \n",
       "5    eisenberg  50.97   11.90         71.65          79.0           100.0   \n",
       "\n",
       "   Wind Speed Country          Date  \n",
       "0        6.89      ZA  1.592235e+09  \n",
       "1       13.87      CK  1.592235e+09  \n",
       "2        5.37      AU  1.592235e+09  \n",
       "3        7.00      RU  1.592235e+09  \n",
       "5        1.99      DE  1.592235e+09  "
      ]
     },
     "execution_count": 5,
     "metadata": {},
     "output_type": "execute_result"
    }
   ],
   "source": [
    "# create a data frame from cities and parameters\n",
    "weather_dict = {\n",
    "    \"City\": cities,\n",
    "    \"Lat\": lat,\n",
    "    \"Lng\": lng,\n",
    "    \"Max Temp (F)\": max_temp,\n",
    "    \"Humidity (%)\":humidity,\n",
    "    \"Cloudiness (%)\":cloudiness,\n",
    "    \"Wind Speed\": wind_speed,\n",
    "    \"Country\":country,\n",
    "    \"Date\":date\n",
    "                }\n",
    "weather_data = pd.DataFrame(weather_dict)\n",
    "weather_data.dropna(inplace=True)\n",
    "\n",
    "#Export to csv\n",
    "weather_data.to_csv('output_data/City_Weather.csv')\n",
    "\n",
    "#Show DataFrame\n",
    "weather_data.head()"
   ]
  },
  {
   "cell_type": "markdown",
   "metadata": {},
   "source": [
    "## Inspect the data and remove the cities where the humidity > 100%.\n",
    "----\n",
    "Skip this step if there are no cities that have humidity > 100%. "
   ]
  },
  {
   "cell_type": "code",
   "execution_count": 6,
   "metadata": {},
   "outputs": [
    {
     "data": {
      "text/html": [
       "<div>\n",
       "<style scoped>\n",
       "    .dataframe tbody tr th:only-of-type {\n",
       "        vertical-align: middle;\n",
       "    }\n",
       "\n",
       "    .dataframe tbody tr th {\n",
       "        vertical-align: top;\n",
       "    }\n",
       "\n",
       "    .dataframe thead th {\n",
       "        text-align: right;\n",
       "    }\n",
       "</style>\n",
       "<table border=\"1\" class=\"dataframe\">\n",
       "  <thead>\n",
       "    <tr style=\"text-align: right;\">\n",
       "      <th></th>\n",
       "      <th>Lat</th>\n",
       "      <th>Lng</th>\n",
       "      <th>Max Temp (F)</th>\n",
       "      <th>Humidity (%)</th>\n",
       "      <th>Cloudiness (%)</th>\n",
       "      <th>Wind Speed</th>\n",
       "      <th>Date</th>\n",
       "    </tr>\n",
       "  </thead>\n",
       "  <tbody>\n",
       "    <tr>\n",
       "      <th>count</th>\n",
       "      <td>542.000000</td>\n",
       "      <td>542.000000</td>\n",
       "      <td>542.000000</td>\n",
       "      <td>542.000000</td>\n",
       "      <td>542.000000</td>\n",
       "      <td>542.000000</td>\n",
       "      <td>5.420000e+02</td>\n",
       "    </tr>\n",
       "    <tr>\n",
       "      <th>mean</th>\n",
       "      <td>21.256273</td>\n",
       "      <td>23.408432</td>\n",
       "      <td>69.286162</td>\n",
       "      <td>65.761993</td>\n",
       "      <td>51.763838</td>\n",
       "      <td>8.621181</td>\n",
       "      <td>1.592235e+09</td>\n",
       "    </tr>\n",
       "    <tr>\n",
       "      <th>std</th>\n",
       "      <td>33.435136</td>\n",
       "      <td>88.534764</td>\n",
       "      <td>15.198495</td>\n",
       "      <td>22.235685</td>\n",
       "      <td>37.802526</td>\n",
       "      <td>5.602449</td>\n",
       "      <td>7.314244e+01</td>\n",
       "    </tr>\n",
       "    <tr>\n",
       "      <th>min</th>\n",
       "      <td>-54.800000</td>\n",
       "      <td>-175.200000</td>\n",
       "      <td>30.200000</td>\n",
       "      <td>1.000000</td>\n",
       "      <td>0.000000</td>\n",
       "      <td>0.630000</td>\n",
       "      <td>1.592234e+09</td>\n",
       "    </tr>\n",
       "    <tr>\n",
       "      <th>25%</th>\n",
       "      <td>-6.800000</td>\n",
       "      <td>-52.477500</td>\n",
       "      <td>57.990000</td>\n",
       "      <td>51.250000</td>\n",
       "      <td>15.250000</td>\n",
       "      <td>4.420000</td>\n",
       "      <td>1.592235e+09</td>\n",
       "    </tr>\n",
       "    <tr>\n",
       "      <th>50%</th>\n",
       "      <td>26.720000</td>\n",
       "      <td>30.800000</td>\n",
       "      <td>70.790000</td>\n",
       "      <td>71.000000</td>\n",
       "      <td>54.500000</td>\n",
       "      <td>7.730000</td>\n",
       "      <td>1.592235e+09</td>\n",
       "    </tr>\n",
       "    <tr>\n",
       "      <th>75%</th>\n",
       "      <td>48.702500</td>\n",
       "      <td>98.577500</td>\n",
       "      <td>79.840000</td>\n",
       "      <td>82.750000</td>\n",
       "      <td>90.000000</td>\n",
       "      <td>11.410000</td>\n",
       "      <td>1.592235e+09</td>\n",
       "    </tr>\n",
       "    <tr>\n",
       "      <th>max</th>\n",
       "      <td>78.220000</td>\n",
       "      <td>179.320000</td>\n",
       "      <td>114.440000</td>\n",
       "      <td>100.000000</td>\n",
       "      <td>100.000000</td>\n",
       "      <td>29.550000</td>\n",
       "      <td>1.592235e+09</td>\n",
       "    </tr>\n",
       "  </tbody>\n",
       "</table>\n",
       "</div>"
      ],
      "text/plain": [
       "              Lat         Lng  Max Temp (F)  Humidity (%)  Cloudiness (%)  \\\n",
       "count  542.000000  542.000000    542.000000    542.000000      542.000000   \n",
       "mean    21.256273   23.408432     69.286162     65.761993       51.763838   \n",
       "std     33.435136   88.534764     15.198495     22.235685       37.802526   \n",
       "min    -54.800000 -175.200000     30.200000      1.000000        0.000000   \n",
       "25%     -6.800000  -52.477500     57.990000     51.250000       15.250000   \n",
       "50%     26.720000   30.800000     70.790000     71.000000       54.500000   \n",
       "75%     48.702500   98.577500     79.840000     82.750000       90.000000   \n",
       "max     78.220000  179.320000    114.440000    100.000000      100.000000   \n",
       "\n",
       "       Wind Speed          Date  \n",
       "count  542.000000  5.420000e+02  \n",
       "mean     8.621181  1.592235e+09  \n",
       "std      5.602449  7.314244e+01  \n",
       "min      0.630000  1.592234e+09  \n",
       "25%      4.420000  1.592235e+09  \n",
       "50%      7.730000  1.592235e+09  \n",
       "75%     11.410000  1.592235e+09  \n",
       "max     29.550000  1.592235e+09  "
      ]
     },
     "execution_count": 6,
     "metadata": {},
     "output_type": "execute_result"
    }
   ],
   "source": [
    "weather_data.describe()"
   ]
  },
  {
   "cell_type": "code",
   "execution_count": 7,
   "metadata": {},
   "outputs": [
    {
     "name": "stdout",
     "output_type": "stream",
     "text": [
      "There are no cities with humidity higher than 100.\n"
     ]
    }
   ],
   "source": [
    "#  Get the indices of cities that have humidity over 100%.\n",
    "if weather_data['Humidity (%)'].max()<=100:\n",
    "    print(\"There are no cities with humidity higher than 100.\")"
   ]
  },
  {
   "cell_type": "code",
   "execution_count": 8,
   "metadata": {},
   "outputs": [
    {
     "name": "stdout",
     "output_type": "stream",
     "text": [
      "Outlier Count: 2\n",
      "Outliers: [3.0, 1.0]\n"
     ]
    },
    {
     "data": {
      "text/html": [
       "<div>\n",
       "<style scoped>\n",
       "    .dataframe tbody tr th:only-of-type {\n",
       "        vertical-align: middle;\n",
       "    }\n",
       "\n",
       "    .dataframe tbody tr th {\n",
       "        vertical-align: top;\n",
       "    }\n",
       "\n",
       "    .dataframe thead th {\n",
       "        text-align: right;\n",
       "    }\n",
       "</style>\n",
       "<table border=\"1\" class=\"dataframe\">\n",
       "  <thead>\n",
       "    <tr style=\"text-align: right;\">\n",
       "      <th></th>\n",
       "      <th>City</th>\n",
       "      <th>Lat</th>\n",
       "      <th>Lng</th>\n",
       "      <th>Max Temp (F)</th>\n",
       "      <th>Humidity (%)</th>\n",
       "      <th>Cloudiness (%)</th>\n",
       "      <th>Wind Speed</th>\n",
       "      <th>Country</th>\n",
       "      <th>Date</th>\n",
       "    </tr>\n",
       "  </thead>\n",
       "  <tbody>\n",
       "    <tr>\n",
       "      <th>0</th>\n",
       "      <td>port alfred</td>\n",
       "      <td>-33.59</td>\n",
       "      <td>26.89</td>\n",
       "      <td>57.99</td>\n",
       "      <td>90.0</td>\n",
       "      <td>70.0</td>\n",
       "      <td>6.89</td>\n",
       "      <td>ZA</td>\n",
       "      <td>1.592235e+09</td>\n",
       "    </tr>\n",
       "    <tr>\n",
       "      <th>1</th>\n",
       "      <td>avarua</td>\n",
       "      <td>-21.21</td>\n",
       "      <td>-159.78</td>\n",
       "      <td>69.80</td>\n",
       "      <td>73.0</td>\n",
       "      <td>75.0</td>\n",
       "      <td>13.87</td>\n",
       "      <td>CK</td>\n",
       "      <td>1.592235e+09</td>\n",
       "    </tr>\n",
       "    <tr>\n",
       "      <th>2</th>\n",
       "      <td>busselton</td>\n",
       "      <td>-33.65</td>\n",
       "      <td>115.33</td>\n",
       "      <td>56.19</td>\n",
       "      <td>73.0</td>\n",
       "      <td>99.0</td>\n",
       "      <td>5.37</td>\n",
       "      <td>AU</td>\n",
       "      <td>1.592235e+09</td>\n",
       "    </tr>\n",
       "    <tr>\n",
       "      <th>3</th>\n",
       "      <td>blagoyevo</td>\n",
       "      <td>63.37</td>\n",
       "      <td>47.92</td>\n",
       "      <td>74.89</td>\n",
       "      <td>46.0</td>\n",
       "      <td>91.0</td>\n",
       "      <td>7.00</td>\n",
       "      <td>RU</td>\n",
       "      <td>1.592235e+09</td>\n",
       "    </tr>\n",
       "    <tr>\n",
       "      <th>5</th>\n",
       "      <td>eisenberg</td>\n",
       "      <td>50.97</td>\n",
       "      <td>11.90</td>\n",
       "      <td>71.65</td>\n",
       "      <td>79.0</td>\n",
       "      <td>100.0</td>\n",
       "      <td>1.99</td>\n",
       "      <td>DE</td>\n",
       "      <td>1.592235e+09</td>\n",
       "    </tr>\n",
       "  </tbody>\n",
       "</table>\n",
       "</div>"
      ],
      "text/plain": [
       "          City    Lat     Lng  Max Temp (F)  Humidity (%)  Cloudiness (%)  \\\n",
       "0  port alfred -33.59   26.89         57.99          90.0            70.0   \n",
       "1       avarua -21.21 -159.78         69.80          73.0            75.0   \n",
       "2    busselton -33.65  115.33         56.19          73.0            99.0   \n",
       "3    blagoyevo  63.37   47.92         74.89          46.0            91.0   \n",
       "5    eisenberg  50.97   11.90         71.65          79.0           100.0   \n",
       "\n",
       "   Wind Speed Country          Date  \n",
       "0        6.89      ZA  1.592235e+09  \n",
       "1       13.87      CK  1.592235e+09  \n",
       "2        5.37      AU  1.592235e+09  \n",
       "3        7.00      RU  1.592235e+09  \n",
       "5        1.99      DE  1.592235e+09  "
      ]
     },
     "execution_count": 8,
     "metadata": {},
     "output_type": "execute_result"
    }
   ],
   "source": [
    "# Make a new DataFrame equal to the city data to drop all humidity outliers by index.\n",
    "# Passing \"inplace=False\" will make a copy of the city_data DataFrame, which we call \"clean_city_data\".\n",
    "\n",
    "#Find the outliers of Humidity.\n",
    "q25=np.quantile(weather_data['Humidity (%)'],.25)\n",
    "q50=np.quantile(weather_data['Humidity (%)'],.5)\n",
    "q75=np.quantile(weather_data['Humidity (%)'],.75)\n",
    "IQR=q75-q25\n",
    "LB=q25-1.5*IQR\n",
    "UB=q75+1.5*IQR\n",
    "outliers=[]\n",
    "outlier_count=0\n",
    "\n",
    "for row_index,row in weather_data.iterrows():\n",
    "    if row['Humidity (%)']<LB or row['Humidity (%)']>UB:\n",
    "        outlier_count=outlier_count+1\n",
    "        outliers.append(row['Humidity (%)'])\n",
    "   \n",
    "print(f'Outlier Count: {outlier_count}')\n",
    "print(f'Outliers: {outliers}')\n",
    "clean_city_data=weather_data.drop(weather_data[(weather_data['Humidity (%)']<LB) | (weather_data['Humidity (%)']>UB)].index , inplace=False)\n",
    "clean_city_data.head()  \n",
    "        "
   ]
  },
  {
   "cell_type": "code",
   "execution_count": 9,
   "metadata": {},
   "outputs": [],
   "source": [
    "# Extract relevant fields from the data frame\n",
    "# Export the City_Data into a csv\n",
    "clean_city_data.to_csv('output_data/Clean_City_data.csv')"
   ]
  },
  {
   "cell_type": "markdown",
   "metadata": {},
   "source": [
    "## Plotting the Data\n",
    "* Use proper labeling of the plots using plot titles (including date of analysis) and axes labels.\n",
    "* Save the plotted figures as .pngs."
   ]
  },
  {
   "cell_type": "markdown",
   "metadata": {},
   "source": [
    "## Latitude vs. Temperature Plot"
   ]
  },
  {
   "cell_type": "code",
   "execution_count": 10,
   "metadata": {
    "scrolled": true
   },
   "outputs": [
    {
     "data": {
      "image/png": "[encoded data removed]",
      "text/plain": [
       "<Figure size 432x288 with 1 Axes>"
      ]
     },
     "metadata": {
      "needs_background": "light"
     },
     "output_type": "display_data"
    }
   ],
   "source": [
    "fig1,ax1=plt.subplots()\n",
    "ax1.scatter(clean_city_data['Lat'],clean_city_data[\"Max Temp (F)\"],color=\"darkblue\")\n",
    "ax1.set_ylabel(\"Max Temperature (F)\")\n",
    "ax1.set_xlabel(\"Latitude\")\n",
    "date=datetime.utcfromtimestamp(int(clean_city_data['Date'][0])).strftime('%m-%d-%Y')\n",
    "ax1.set_title(f'City Latitude vs Max Temperature ({date})')\n",
    "ax1.grid()\n",
    "plt.savefig('Images/Fig1.png')\n",
    "plt.show()"
   ]
  },
  {
   "cell_type": "markdown",
   "metadata": {},
   "source": [
    "## Latitude vs. Humidity Plot"
   ]
  },
  {
   "cell_type": "code",
   "execution_count": 11,
   "metadata": {},
   "outputs": [
    {
     "data": {
      "image/png": "[encoded data removed]",
      "text/plain": [
       "<Figure size 432x288 with 1 Axes>"
      ]
     },
     "metadata": {
      "needs_background": "light"
     },
     "output_type": "display_data"
    }
   ],
   "source": [
    "fig2,ax2=plt.subplots()\n",
    "ax2.scatter(clean_city_data['Lat'],clean_city_data[\"Humidity (%)\"],color=\"darkblue\")\n",
    "ax2.set_ylabel(\"Humidity (%)\")\n",
    "ax2.set_xlabel(\"Latitude\")\n",
    "date=datetime.utcfromtimestamp(int(clean_city_data['Date'][0])).strftime('%m-%d-%Y')\n",
    "ax2.set_title(f'City Latitude vs Humidity ({date})')\n",
    "ax2.grid()\n",
    "plt.savefig('Images/Fig2.png')\n",
    "plt.show()"
   ]
  },
  {
   "cell_type": "markdown",
   "metadata": {},
   "source": [
    "## Latitude vs. Cloudiness Plot"
   ]
  },
  {
   "cell_type": "code",
   "execution_count": 12,
   "metadata": {},
   "outputs": [
    {
     "data": {
      "image/png": "[encoded data removed]",
      "text/plain": [
       "<Figure size 432x288 with 1 Axes>"
      ]
     },
     "metadata": {
      "needs_background": "light"
     },
     "output_type": "display_data"
    }
   ],
   "source": [
    "fig3,ax3=plt.subplots()\n",
    "ax3.scatter(clean_city_data['Lat'],clean_city_data[\"Cloudiness (%)\"],color=\"darkblue\")\n",
    "ax3.set_ylabel(\"Cloudiness (%)\")\n",
    "ax3.set_xlabel(\"Latitude\")\n",
    "date=datetime.utcfromtimestamp(int(clean_city_data['Date'][0])).strftime('%m-%d-%Y')\n",
    "ax3.set_title(f'City Latitude vs Cloudiness ({date})')\n",
    "ax3.grid()\n",
    "plt.savefig('Images/Fig3.png')\n",
    "plt.show()"
   ]
  },
  {
   "cell_type": "markdown",
   "metadata": {},
   "source": [
    "## Latitude vs. Wind Speed Plot"
   ]
  },
  {
   "cell_type": "code",
   "execution_count": 13,
   "metadata": {},
   "outputs": [
    {
     "data": {
      "image/png": "[encoded data removed]",
      "text/plain": [
       "<Figure size 432x288 with 1 Axes>"
      ]
     },
     "metadata": {
      "needs_background": "light"
     },
     "output_type": "display_data"
    }
   ],
   "source": [
    "fig4,ax4=plt.subplots()\n",
    "ax4.scatter(clean_city_data['Lat'],clean_city_data[\"Wind Speed\"],color=\"darkblue\")\n",
    "ax4.set_ylabel(\"Wind Speed (mph)\")\n",
    "ax4.set_xlabel(\"Latitude\")\n",
    "date=datetime.utcfromtimestamp(int(clean_city_data['Date'][0])).strftime('%m-%d-%Y')\n",
    "ax4.set_title(f'City Latitude vs Wind Speed ({date})')\n",
    "ax4.grid()\n",
    "plt.savefig('Images/Fig4.png')\n",
    "plt.show()"
   ]
  },
  {
   "cell_type": "markdown",
   "metadata": {},
   "source": [
    "## Linear Regression"
   ]
  },
  {
   "cell_type": "code",
   "execution_count": 14,
   "metadata": {},
   "outputs": [],
   "source": [
    "# OPTIONAL: Create a function to create Linear Regression plots\n",
    "def linear_regression (x_axis,y_axis,x,y):\n",
    "    (slope, intercept, rvalue, pvalue, stderr) = linregress(x_axis, y_axis)\n",
    "    regress_values = x_axis * slope + intercept\n",
    "    line_eq = \"y = \" + str(round(slope,2)) + \"x + \" + str(round(intercept,2))\n",
    "    fig,ax=plt.subplots()\n",
    "    ax.scatter(x_axis,y_axis,color=\"darkblue\")\n",
    "    ax.plot(x_axis,regress_values,\"r-\")\n",
    "    ax.annotate(line_eq,(x,y),fontsize=10,color=\"red\")\n",
    "    ax.annotate(f'r^2= {round(rvalue**2,2)}',(x,y-4),fontsize=10,color=\"red\")\n",
    "   "
   ]
  },
  {
   "cell_type": "code",
   "execution_count": 15,
   "metadata": {},
   "outputs": [],
   "source": [
    "# Create Northern and Southern Hemisphere DataFrames\n",
    "NH_df=clean_city_data.loc[clean_city_data['Lat']>0,:]\n",
    "SH_df=clean_city_data.loc[clean_city_data['Lat']<=0,:]\n"
   ]
  },
  {
   "cell_type": "markdown",
   "metadata": {},
   "source": [
    "####  Northern Hemisphere - Max Temp vs. Latitude Linear Regression"
   ]
  },
  {
   "cell_type": "code",
   "execution_count": 16,
   "metadata": {},
   "outputs": [
    {
     "data": {
      "image/png": "[encoded data removed]",
      "text/plain": [
       "<Figure size 432x288 with 1 Axes>"
      ]
     },
     "metadata": {
      "needs_background": "light"
     },
     "output_type": "display_data"
    }
   ],
   "source": [
    "linear_regression(NH_df['Lat'],NH_df['Max Temp (F)'],20,40)\n",
    "plt.xlabel(\"Latitude\")\n",
    "plt.ylabel(\"Max Temp (F)\")\n",
    "plt.title('Northern Hemisphere - Max Temp vs. Latitude')\n",
    "plt.savefig('Images/Fig5.png')\n",
    "plt.show()"
   ]
  },
  {
   "cell_type": "markdown",
   "metadata": {},
   "source": [
    "####  Southern Hemisphere - Max Temp vs. Latitude Linear Regression"
   ]
  },
  {
   "cell_type": "code",
   "execution_count": 17,
   "metadata": {},
   "outputs": [
    {
     "data": {
      "image/png": "[encoded data removed]",
      "text/plain": [
       "<Figure size 432x288 with 1 Axes>"
      ]
     },
     "metadata": {
      "needs_background": "light"
     },
     "output_type": "display_data"
    }
   ],
   "source": [
    "linear_regression(SH_df['Lat'],SH_df['Max Temp (F)'],-35,40)\n",
    "plt.xlabel(\"Latitude\")\n",
    "plt.ylabel(\"Max Temp (F)\")\n",
    "plt.title('Southern Hemisphere - Max Temp vs. Latitude')\n",
    "plt.savefig('Images/Fig6.png')\n",
    "plt.show()"
   ]
  },
  {
   "cell_type": "markdown",
   "metadata": {},
   "source": [
    "####  Northern Hemisphere - Humidity (%) vs. Latitude Linear Regression"
   ]
  },
  {
   "cell_type": "code",
   "execution_count": 18,
   "metadata": {},
   "outputs": [
    {
     "data": {
      "image/png": "[encoded data removed]",
      "text/plain": [
       "<Figure size 432x288 with 1 Axes>"
      ]
     },
     "metadata": {
      "needs_background": "light"
     },
     "output_type": "display_data"
    }
   ],
   "source": [
    "linear_regression(NH_df['Lat'],NH_df['Humidity (%)'],0,20)\n",
    "plt.xlabel(\"Latitude\")\n",
    "plt.ylabel(\"Humidity (%)\")\n",
    "plt.title('Northern Hemisphere - Humidity (%) vs. Latitude')\n",
    "plt.savefig('Images/Fig7.png')\n",
    "plt.show()"
   ]
  },
  {
   "cell_type": "markdown",
   "metadata": {},
   "source": [
    "####  Southern Hemisphere - Humidity (%) vs. Latitude Linear Regression"
   ]
  },
  {
   "cell_type": "code",
   "execution_count": 19,
   "metadata": {},
   "outputs": [
    {
     "data": {
      "image/png": "[encoded data removed]",
      "text/plain": [
       "<Figure size 432x288 with 1 Axes>"
      ]
     },
     "metadata": {
      "needs_background": "light"
     },
     "output_type": "display_data"
    }
   ],
   "source": [
    "linear_regression(SH_df['Lat'],SH_df['Humidity (%)'],-55,25)\n",
    "plt.xlabel(\"Latitude\")\n",
    "plt.ylabel(\"Humidity (%)\")\n",
    "plt.title('Southern Hemisphere - Humidity (%) vs. Latitude')\n",
    "plt.savefig('Images/Fig8.png')\n",
    "plt.show()"
   ]
  },
  {
   "cell_type": "markdown",
   "metadata": {},
   "source": [
    "####  Northern Hemisphere - Cloudiness (%) vs. Latitude Linear Regression"
   ]
  },
  {
   "cell_type": "code",
   "execution_count": 20,
   "metadata": {},
   "outputs": [
    {
     "data": {
      "image/png": "[encoded data removed]",
      "text/plain": [
       "<Figure size 432x288 with 1 Axes>"
      ]
     },
     "metadata": {
      "needs_background": "light"
     },
     "output_type": "display_data"
    }
   ],
   "source": [
    "linear_regression(NH_df['Lat'],NH_df['Cloudiness (%)'],0,65)\n",
    "plt.xlabel(\"Latitude\")\n",
    "plt.ylabel(\"Cloudiness (%)\")\n",
    "plt.title('Northern Hemisphere - Cloudiness (%) vs. Latitude')\n",
    "plt.savefig('Images/Fig9.png')\n",
    "plt.show()"
   ]
  },
  {
   "cell_type": "markdown",
   "metadata": {},
   "source": [
    "####  Southern Hemisphere - Cloudiness (%) vs. Latitude Linear Regression"
   ]
  },
  {
   "cell_type": "code",
   "execution_count": 21,
   "metadata": {},
   "outputs": [
    {
     "data": {
      "image/png": "[encoded data removed]",
      "text/plain": [
       "<Figure size 432x288 with 1 Axes>"
      ]
     },
     "metadata": {
      "needs_background": "light"
     },
     "output_type": "display_data"
    }
   ],
   "source": [
    "linear_regression(SH_df['Lat'],SH_df['Cloudiness (%)'],-55,20)\n",
    "plt.xlabel(\"Latitude\")\n",
    "plt.ylabel(\"Cloudiness (%)\")\n",
    "plt.title('Southern Hemisphere - Cloudiness (%) vs. Latitude')\n",
    "plt.savefig('Images/Fig10.png')\n",
    "plt.show()"
   ]
  },
  {
   "cell_type": "markdown",
   "metadata": {},
   "source": [
    "####  Northern Hemisphere - Wind Speed (mph) vs. Latitude Linear Regression"
   ]
  },
  {
   "cell_type": "code",
   "execution_count": 22,
   "metadata": {},
   "outputs": [
    {
     "data": {
      "image/png": "[encoded data removed]",
      "text/plain": [
       "<Figure size 432x288 with 1 Axes>"
      ]
     },
     "metadata": {
      "needs_background": "light"
     },
     "output_type": "display_data"
    }
   ],
   "source": [
    "linear_regression(NH_df['Lat'],NH_df['Wind Speed'],30,31)\n",
    "plt.xlabel(\"Latitude\")\n",
    "plt.ylabel(\"Wind Speed (mph)\")\n",
    "plt.title('Northern Hemisphere - Wind Speed vs. Latitude')\n",
    "plt.savefig('Images/Fig11.png')\n",
    "plt.show()"
   ]
  },
  {
   "cell_type": "markdown",
   "metadata": {},
   "source": [
    "####  Southern Hemisphere - Wind Speed (mph) vs. Latitude Linear Regression"
   ]
  },
  {
   "cell_type": "code",
   "execution_count": 23,
   "metadata": {},
   "outputs": [
    {
     "data": {
      "image/png": "[encoded data removed]",
      "text/plain": [
       "<Figure size 432x288 with 1 Axes>"
      ]
     },
     "metadata": {
      "needs_background": "light"
     },
     "output_type": "display_data"
    }
   ],
   "source": [
    "linear_regression(SH_df['Lat'],SH_df['Wind Speed'],-20,22)\n",
    "plt.xlabel(\"Latitude\")\n",
    "plt.ylabel(\"Wind Speed (mph)\")\n",
    "plt.title('Southern Hemisphere - Wind Speed vs. Latitude')\n",
    "plt.savefig('Images/Fig12.png')\n",
    "plt.show()"
   ]
  },
  {
   "cell_type": "code",
   "execution_count": null,
   "metadata": {},
   "outputs": [],
   "source": []
  }
 ],
 "metadata": {
  "anaconda-cloud": {},
  "kernel_info": {
   "name": "python3"
  },
  "kernelspec": {
   "display_name": "Python [conda env:PythonData] *",
   "language": "python",
   "name": "conda-env-PythonData-py"
  },
  "language_info": {
   "codemirror_mode": {
    "name": "ipython",
    "version": 3
   },
   "file_extension": ".py",
   "mimetype": "text/x-python",
   "name": "python",
   "nbconvert_exporter": "python",
   "pygments_lexer": "ipython3",
   "version": "3.8.2"
  },
  "latex_envs": {
   "LaTeX_envs_menu_present": true,
   "autoclose": false,
   "autocomplete": true,
   "bibliofile": "biblio.bib",
   "cite_by": "apalike",
   "current_citInitial": 1,
   "eqLabelWithNumbers": true,
   "eqNumInitial": 1,
   "hotkeys": {
    "equation": "Ctrl-E",
    "itemize": "Ctrl-I"
   },
   "labels_anchors": false,
   "latex_user_defs": false,
   "report_style_numbering": false,
   "user_envs_cfg": false
  },
  "nteract": {
   "version": "0.12.3"
  }
 },
 "nbformat": 4,
 "nbformat_minor": 2
}
